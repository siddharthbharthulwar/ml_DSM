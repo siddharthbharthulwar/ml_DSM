{
  "nbformat": 4,
  "nbformat_minor": 0,
  "metadata": {
    "colab": {
      "name": "DSManalysis.ipynb",
      "provenance": [],
      "collapsed_sections": [],
      "include_colab_link": true
    },
    "kernelspec": {
      "name": "python3",
      "display_name": "Python 3"
    }
  },
  "cells": [
    {
      "cell_type": "markdown",
      "metadata": {
        "id": "view-in-github",
        "colab_type": "text"
      },
      "source": [
        "<a href=\"https://colab.research.google.com/github/siddharthbharthulwar/ml_DSM/blob/master/DSManalysis.ipynb\" target=\"_parent\"><img src=\"https://colab.research.google.com/assets/colab-badge.svg\" alt=\"Open In Colab\"/></a>"
      ]
    },
    {
      "cell_type": "code",
      "metadata": {
        "id": "2dANayRhYVt7",
        "colab_type": "code",
        "outputId": "b5c3db19-d037-431f-c995-1bf6429da82a",
        "colab": {
          "base_uri": "https://localhost:8080/",
          "height": 388
        }
      },
      "source": [
        "import matplotlib.pyplot as plt\n",
        "import numpy as np\n",
        "import tensorflow as tf\n",
        "import rasterio as rio\n",
        "\n",
        "DSM9 = \"D:\\\\Documents\\\\School\\\\2019-20\\\\ISEF 2020\\\\AHN\\\\R5_37FZ2\\\\r5_37fz2.tif\"\n",
        "DSM6 = \"D:\\\\Documents\\\\School\\\\2019-20\\\\ISEF 2020\\\\AHN\\\\R5_37FN2\\\\r5_37fn2.tif\"\n",
        "DSM8 = \"D:\\\\Documents\\\\School\\\\2019-20\\\\ISEF 2020\\\\AHN\\\\R5_37FZ1\\\\r5_37fz1.tif\"\n",
        "DSM7 = \"D:\\\\Documents\\\\School\\\\2019-20\\\\ISEF 2020\\\\AHN\\\\R5_37EZ2\\\\r5_37ez2.tif\"\n",
        "DSM4 = \"D:\\\\Documents\\\\School\\\\2019-20\\\\ISEF 2020\\\\AHN\\\\R5_37EN2\\\\r5_37en2.tif\"\n",
        "DSM5 = \"D:\\\\Documents\\\\School\\\\2019-20\\\\ISEF 2020\\\\AHN\\\\R5_37FN1\\\\r5_37fn1.tif\"\n",
        "\n"
      ],
      "execution_count": 0,
      "outputs": [
        {
          "output_type": "error",
          "ename": "ModuleNotFoundError",
          "evalue": "ignored",
          "traceback": [
            "\u001b[0;31m---------------------------------------------------------------------------\u001b[0m",
            "\u001b[0;31mModuleNotFoundError\u001b[0m                       Traceback (most recent call last)",
            "\u001b[0;32m<ipython-input-2-9112f273381e>\u001b[0m in \u001b[0;36m<module>\u001b[0;34m()\u001b[0m\n\u001b[1;32m      2\u001b[0m \u001b[0;32mimport\u001b[0m \u001b[0mnumpy\u001b[0m \u001b[0;32mas\u001b[0m \u001b[0mnp\u001b[0m\u001b[0;34m\u001b[0m\u001b[0;34m\u001b[0m\u001b[0m\n\u001b[1;32m      3\u001b[0m \u001b[0;32mimport\u001b[0m \u001b[0mtensorflow\u001b[0m \u001b[0;32mas\u001b[0m \u001b[0mtf\u001b[0m\u001b[0;34m\u001b[0m\u001b[0;34m\u001b[0m\u001b[0m\n\u001b[0;32m----> 4\u001b[0;31m \u001b[0;32mimport\u001b[0m \u001b[0mrasterio\u001b[0m \u001b[0;32mas\u001b[0m \u001b[0mrio\u001b[0m\u001b[0;34m\u001b[0m\u001b[0;34m\u001b[0m\u001b[0m\n\u001b[0m\u001b[1;32m      5\u001b[0m \u001b[0;34m\u001b[0m\u001b[0m\n\u001b[1;32m      6\u001b[0m \u001b[0mDSM9\u001b[0m \u001b[0;34m=\u001b[0m \u001b[0;34m\"D:\\\\Documents\\\\School\\\\2019-20\\\\ISEF 2020\\\\AHN\\\\R5_37FZ2\\\\r5_37fz2.tif\"\u001b[0m\u001b[0;34m\u001b[0m\u001b[0;34m\u001b[0m\u001b[0m\n",
            "\u001b[0;31mModuleNotFoundError\u001b[0m: No module named 'rasterio'",
            "",
            "\u001b[0;31m---------------------------------------------------------------------------\u001b[0;32m\nNOTE: If your import is failing due to a missing package, you can\nmanually install dependencies using either !pip or !apt.\n\nTo view examples of installing some common dependencies, click the\n\"Open Examples\" button below.\n\u001b[0;31m---------------------------------------------------------------------------\u001b[0m\n"
          ]
        }
      ]
    }
  ]
}